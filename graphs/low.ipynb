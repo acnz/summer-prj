{
 "metadata": {
  "name": ""
 },
 "nbformat": 3,
 "nbformat_minor": 0,
 "worksheets": [
  {
   "cells": [
    {
     "cell_type": "code",
     "collapsed": false,
     "input": [
      "import MagicTools"
     ],
     "language": "python",
     "metadata": {},
     "outputs": [],
     "prompt_number": 2
    },
    {
     "cell_type": "code",
     "collapsed": false,
     "input": [
      "%pylab inline "
     ],
     "language": "python",
     "metadata": {},
     "outputs": [
      {
       "output_type": "stream",
       "stream": "stdout",
       "text": [
        "Populating the interactive namespace from numpy and matplotlib\n"
       ]
      }
     ],
     "prompt_number": 25
    },
    {
     "cell_type": "code",
     "collapsed": false,
     "input": [
      "MagicTools.Deviation(['0magic0.out','0magic1.out','0magic2.out','0magic3.out'])"
     ],
     "language": "python",
     "metadata": {},
     "outputs": [
      {
       "output_type": "stream",
       "stream": "stdout",
       "text": [
        "0magic0.out.iter1    S:   5.52561       RDF:   3.37115\n",
        "0magic0.out.iter2    S:   2.39021       RDF:   0.69364\n",
        "0magic0.out.iter3    S:   1.48770       RDF:   0.43659\n",
        "0magic0.out.iter4    S:   1.03896       RDF:   0.45803\n",
        "0magic0.out.iter5    S:   0.85950       RDF:   0.30883\n",
        "0magic0.out.iter6    S:   0.74291       RDF:   0.29362\n",
        "0magic0.out.iter7    S:   0.72854       RDF:   0.27098\n",
        "0magic0.out.iter8    S:   0.64791       RDF:   0.23766\n",
        "0magic0.out.iter9    S:   0.61064       RDF:   0.21673\n",
        "0magic0.out.iter10    S:   0.60868       RDF:   0.18731\n",
        "0magic1.out.iter1    S:   0.46928       RDF:   0.15734\n",
        "0magic1.out.iter2    S:   1.16588       RDF:   0.48066\n",
        "0magic1.out.iter3    S:   1.41678       RDF:   0.57081\n",
        "0magic1.out.iter4    S:   1.45686       RDF:   0.57529\n",
        "0magic1.out.iter5    S:   1.31140       RDF:   0.51230\n",
        "0magic1.out.iter6    S:   0.39708       RDF:   0.14900\n",
        "0magic1.out.iter7    S:   0.36810       RDF:   0.14673\n",
        "0magic1.out.iter8    S:   0.38558       RDF:   0.16176\n",
        "0magic1.out.iter9    S:   0.33607       RDF:   0.15052\n",
        "0magic1.out.iter10    S:   0.28330       RDF:   0.15601\n",
        "0magic2.out.iter1    S:   0.28138       RDF:   0.14967\n",
        "0magic2.out.iter2    S:   0.18970       RDF:   0.08410\n",
        "0magic2.out.iter3    S:   0.18404       RDF:   0.03791\n",
        "0magic2.out.iter4    S:   0.18306       RDF:   0.05579\n",
        "0magic2.out.iter5    S:   0.11599       RDF:   0.04050\n",
        "0magic2.out.iter6    S:   0.07843       RDF:   0.03290\n",
        "0magic2.out.iter7    S:   0.25446       RDF:   0.12119\n",
        "0magic2.out.iter8    S:   0.18376       RDF:   0.08919\n",
        "0magic2.out.iter9    S:   0.14580       RDF:   0.04161\n",
        "0magic2.out.iter10    S:   0.11295       RDF:   0.03040\n",
        "0magic3.out.iter1    S:   0.09846       RDF:   0.04370\n",
        "0magic3.out.iter2    S:   0.18243       RDF:   0.04362\n",
        "0magic3.out.iter3    S:   0.17147       RDF:   0.05027\n",
        "0magic3.out.iter4    S:   0.11582       RDF:   0.03514\n",
        "0magic3.out.iter5    S:   0.07416       RDF:   0.02440\n"
       ]
      }
     ],
     "prompt_number": 3
    },
    {
     "cell_type": "code",
     "collapsed": false,
     "input": [
      "MagicTools.AnalyzeIMCOuput('0magic3.out')"
     ],
     "language": "python",
     "metadata": {},
     "outputs": [
      {
       "output_type": "stream",
       "stream": "stdout",
       "text": [
        "Automatically defining list of interactions from input file. If this does not work well for your input, edit subroutine GetDFsFromFile_magic in MagicTools.py and manualy add list of your beads to PairNamesList\n",
        "3"
       ]
      },
      {
       "output_type": "stream",
       "stream": "stdout",
       "text": [
        "  intermolecular pairs detected  ['N-N', 'N-C', 'C-C']\n",
        "2  pairwise bonds detected  ['N1-C1', 'C1-C2']\n",
        "1  angles detected  ['N1-C2-C1']\n",
        "Total number of iterations: 5\n",
        "Total number of checks per iteration:"
       ]
      },
      {
       "output_type": "stream",
       "stream": "stdout",
       "text": [
        " 7\n",
        "Iteration 1\n",
        "Pair N-N\n",
        "Pair N-C\n",
        "Pair C-C"
       ]
      },
      {
       "output_type": "stream",
       "stream": "stdout",
       "text": [
        "\n",
        "Pair N1-C1\n",
        "Pair C1-C2"
       ]
      },
      {
       "output_type": "stream",
       "stream": "stdout",
       "text": [
        "\n",
        "Pair N1-C2-C1\n",
        "Iteration 2"
       ]
      },
      {
       "output_type": "stream",
       "stream": "stdout",
       "text": [
        "\n",
        "Pair N-N\n",
        "Pair N-C\n",
        "Pair C-C"
       ]
      },
      {
       "output_type": "stream",
       "stream": "stdout",
       "text": [
        "\n",
        "Pair N1-C1\n",
        "Pair C1-C2"
       ]
      },
      {
       "output_type": "stream",
       "stream": "stdout",
       "text": [
        "\n",
        "Pair N1-C2-C1\n",
        "Iteration 3"
       ]
      },
      {
       "output_type": "stream",
       "stream": "stdout",
       "text": [
        "\n",
        "Pair N-N\n",
        "Pair N-C\n",
        "Pair C-C"
       ]
      },
      {
       "output_type": "stream",
       "stream": "stdout",
       "text": [
        "\n",
        "Pair N1-C1\n",
        "Pair C1-C2"
       ]
      },
      {
       "output_type": "stream",
       "stream": "stdout",
       "text": [
        "\n",
        "Pair N1-C2-C1\n",
        "Iteration 4"
       ]
      },
      {
       "output_type": "stream",
       "stream": "stdout",
       "text": [
        "\n",
        "Pair N-N\n",
        "Pair N-C\n",
        "Pair C-C"
       ]
      },
      {
       "output_type": "stream",
       "stream": "stdout",
       "text": [
        "\n",
        "Pair N1-C1\n",
        "Pair C1-C2"
       ]
      },
      {
       "output_type": "stream",
       "stream": "stdout",
       "text": [
        "\n",
        "Pair N1-C2-C1\n",
        "Iteration 5"
       ]
      },
      {
       "output_type": "stream",
       "stream": "stdout",
       "text": [
        "\n",
        "Pair N-N\n",
        "Pair N-C\n",
        "Pair C-C"
       ]
      },
      {
       "output_type": "stream",
       "stream": "stdout",
       "text": [
        "\n",
        "Pair N1-C1\n",
        "Pair C1-C2"
       ]
      },
      {
       "output_type": "stream",
       "stream": "stdout",
       "text": [
        "\n",
        "Pair N1-C2-C1\n",
        "Automatically defining list of interactions from input file. If this does not work well for your input, edit subroutine GetDFsFromFile_magic in MagicTools.py and manualy add list of your beads to PairNamesList"
       ]
      },
      {
       "output_type": "stream",
       "stream": "stdout",
       "text": [
        "\n",
        "3  intermolecular pairs detected  ['N-N', 'N-C', 'C-C']\n",
        "2  pairwise bonds detected  ['N1-C1', 'C1-C2']\n",
        "1  angles detected  ['N1-C2-C1']\n",
        "Total number of iterations:"
       ]
      },
      {
       "output_type": "stream",
       "stream": "stdout",
       "text": [
        " 5\n",
        "Total number of checks per iteration: 7\n",
        "Iteration 1\n",
        "Pair N-N\n",
        "Pair N-C"
       ]
      },
      {
       "output_type": "stream",
       "stream": "stdout",
       "text": [
        "\n",
        "Pair C-C\n",
        "Pair N1-C1"
       ]
      },
      {
       "output_type": "stream",
       "stream": "stdout",
       "text": [
        "\n",
        "Pair C1-C2\n",
        "Pair N1-C2-C1"
       ]
      },
      {
       "output_type": "stream",
       "stream": "stdout",
       "text": [
        "\n",
        "Iteration 2\n"
       ]
      }
     ],
     "prompt_number": 5
    },
    {
     "cell_type": "code",
     "collapsed": false,
     "input": [
      "import MagicTools"
     ],
     "language": "python",
     "metadata": {},
     "outputs": [],
     "prompt_number": 6
    },
    {
     "cell_type": "code",
     "collapsed": false,
     "input": [
      "rdf = []\n",
      "rdf.append(MagicTools.GetDFsFromFile_magic('0magic0.out'));\n",
      "rdf.append(MagicTools.GetDFsFromFile_magic('0magic1.out'));\n",
      "rdf.append(MagicTools.GetDFsFromFile_magic('0magic2.out'));\n",
      "rdf.append(MagicTools.GetDFsFromFile_magic('0magic3.out'));"
     ],
     "language": "python",
     "metadata": {},
     "outputs": [
      {
       "output_type": "stream",
       "stream": "stdout",
       "text": [
        "Automatically defining list of interactions from input file. If this does not work well for your input, edit subroutine GetDFsFromFile_magic in MagicTools.py and manualy add list of your beads to PairNamesList\n",
        "3"
       ]
      },
      {
       "output_type": "stream",
       "stream": "stdout",
       "text": [
        "  intermolecular pairs detected  ['N-N', 'N-C', 'C-C']\n",
        "2  pairwise bonds detected  ['N1-C1', 'C1-C2']\n",
        "1  angles detected  ['N1-C2-C1']\n",
        "Total number of iterations:"
       ]
      },
      {
       "output_type": "stream",
       "stream": "stdout",
       "text": [
        " 10\n",
        "Total number of checks per iteration:"
       ]
      },
      {
       "output_type": "stream",
       "stream": "stdout",
       "text": [
        " 22\n",
        "Iteration 1\n",
        "Pair N-N\n",
        "Pair N-C"
       ]
      },
      {
       "output_type": "stream",
       "stream": "stdout",
       "text": [
        "\n",
        "Pair C-C"
       ]
      },
      {
       "output_type": "stream",
       "stream": "stdout",
       "text": [
        "\n",
        "Pair N1-C1"
       ]
      },
      {
       "output_type": "stream",
       "stream": "stdout",
       "text": [
        "\n",
        "Pair C1-C2"
       ]
      },
      {
       "output_type": "stream",
       "stream": "stdout",
       "text": [
        "\n",
        "Pair N1-C2-C1"
       ]
      },
      {
       "output_type": "stream",
       "stream": "stdout",
       "text": [
        "\n",
        "Iteration 2"
       ]
      },
      {
       "output_type": "stream",
       "stream": "stdout",
       "text": [
        "\n",
        "Pair N-N\n",
        "Pair N-C"
       ]
      },
      {
       "output_type": "stream",
       "stream": "stdout",
       "text": [
        "\n",
        "Pair C-C"
       ]
      },
      {
       "output_type": "stream",
       "stream": "stdout",
       "text": [
        "\n",
        "Pair N1-C1"
       ]
      },
      {
       "output_type": "stream",
       "stream": "stdout",
       "text": [
        "\n",
        "Pair C1-C2"
       ]
      },
      {
       "output_type": "stream",
       "stream": "stdout",
       "text": [
        "\n",
        "Pair N1-C2-C1"
       ]
      },
      {
       "output_type": "stream",
       "stream": "stdout",
       "text": [
        "\n",
        "Iteration 3"
       ]
      },
      {
       "output_type": "stream",
       "stream": "stdout",
       "text": [
        "\n",
        "Pair N-N\n",
        "Pair N-C"
       ]
      },
      {
       "output_type": "stream",
       "stream": "stdout",
       "text": [
        "\n",
        "Pair C-C"
       ]
      },
      {
       "output_type": "stream",
       "stream": "stdout",
       "text": [
        "\n",
        "Pair N1-C1"
       ]
      },
      {
       "output_type": "stream",
       "stream": "stdout",
       "text": [
        "\n",
        "Pair C1-C2"
       ]
      },
      {
       "output_type": "stream",
       "stream": "stdout",
       "text": [
        "\n",
        "Pair N1-C2-C1"
       ]
      },
      {
       "output_type": "stream",
       "stream": "stdout",
       "text": [
        "\n",
        "Iteration 4"
       ]
      },
      {
       "output_type": "stream",
       "stream": "stdout",
       "text": [
        "\n",
        "Pair N-N\n",
        "Pair N-C"
       ]
      },
      {
       "output_type": "stream",
       "stream": "stdout",
       "text": [
        "\n",
        "Pair C-C"
       ]
      },
      {
       "output_type": "stream",
       "stream": "stdout",
       "text": [
        "\n",
        "Pair N1-C1"
       ]
      },
      {
       "output_type": "stream",
       "stream": "stdout",
       "text": [
        "\n",
        "Pair C1-C2"
       ]
      },
      {
       "output_type": "stream",
       "stream": "stdout",
       "text": [
        "\n",
        "Pair N1-C2-C1"
       ]
      },
      {
       "output_type": "stream",
       "stream": "stdout",
       "text": [
        "\n",
        "Iteration 5"
       ]
      },
      {
       "output_type": "stream",
       "stream": "stdout",
       "text": [
        "\n",
        "Pair N-N\n",
        "Pair N-C"
       ]
      },
      {
       "output_type": "stream",
       "stream": "stdout",
       "text": [
        "\n",
        "Pair C-C"
       ]
      },
      {
       "output_type": "stream",
       "stream": "stdout",
       "text": [
        "\n",
        "Pair N1-C1"
       ]
      },
      {
       "output_type": "stream",
       "stream": "stdout",
       "text": [
        "\n",
        "Pair C1-C2"
       ]
      },
      {
       "output_type": "stream",
       "stream": "stdout",
       "text": [
        "\n",
        "Pair N1-C2-C1"
       ]
      },
      {
       "output_type": "stream",
       "stream": "stdout",
       "text": [
        "\n",
        "Iteration 6"
       ]
      },
      {
       "output_type": "stream",
       "stream": "stdout",
       "text": [
        "\n",
        "Pair N-N\n",
        "Pair N-C"
       ]
      },
      {
       "output_type": "stream",
       "stream": "stdout",
       "text": [
        "\n",
        "Pair C-C"
       ]
      },
      {
       "output_type": "stream",
       "stream": "stdout",
       "text": [
        "\n",
        "Pair N1-C1"
       ]
      },
      {
       "output_type": "stream",
       "stream": "stdout",
       "text": [
        "\n",
        "Pair C1-C2"
       ]
      },
      {
       "output_type": "stream",
       "stream": "stdout",
       "text": [
        "\n",
        "Pair N1-C2-C1"
       ]
      },
      {
       "output_type": "stream",
       "stream": "stdout",
       "text": [
        "\n",
        "Iteration 7"
       ]
      },
      {
       "output_type": "stream",
       "stream": "stdout",
       "text": [
        "\n",
        "Pair N-N\n",
        "Pair N-C"
       ]
      },
      {
       "output_type": "stream",
       "stream": "stdout",
       "text": [
        "\n",
        "Pair C-C"
       ]
      },
      {
       "output_type": "stream",
       "stream": "stdout",
       "text": [
        "\n",
        "Pair N1-C1"
       ]
      },
      {
       "output_type": "stream",
       "stream": "stdout",
       "text": [
        "\n",
        "Pair C1-C2"
       ]
      },
      {
       "output_type": "stream",
       "stream": "stdout",
       "text": [
        "\n",
        "Pair N1-C2-C1"
       ]
      },
      {
       "output_type": "stream",
       "stream": "stdout",
       "text": [
        "\n",
        "Iteration 8"
       ]
      },
      {
       "output_type": "stream",
       "stream": "stdout",
       "text": [
        "\n",
        "Pair N-N\n",
        "Pair N-C"
       ]
      },
      {
       "output_type": "stream",
       "stream": "stdout",
       "text": [
        "\n",
        "Pair C-C"
       ]
      },
      {
       "output_type": "stream",
       "stream": "stdout",
       "text": [
        "\n",
        "Pair N1-C1"
       ]
      },
      {
       "output_type": "stream",
       "stream": "stdout",
       "text": [
        "\n",
        "Pair C1-C2"
       ]
      },
      {
       "output_type": "stream",
       "stream": "stdout",
       "text": [
        "\n",
        "Pair N1-C2-C1"
       ]
      },
      {
       "output_type": "stream",
       "stream": "stdout",
       "text": [
        "\n",
        "Iteration 9"
       ]
      },
      {
       "output_type": "stream",
       "stream": "stdout",
       "text": [
        "\n",
        "Pair N-N\n",
        "Pair N-C"
       ]
      },
      {
       "output_type": "stream",
       "stream": "stdout",
       "text": [
        "\n",
        "Pair C-C"
       ]
      },
      {
       "output_type": "stream",
       "stream": "stdout",
       "text": [
        "\n",
        "Pair N1-C1"
       ]
      },
      {
       "output_type": "stream",
       "stream": "stdout",
       "text": [
        "\n",
        "Pair C1-C2"
       ]
      },
      {
       "output_type": "stream",
       "stream": "stdout",
       "text": [
        "\n",
        "Pair N1-C2-C1"
       ]
      },
      {
       "output_type": "stream",
       "stream": "stdout",
       "text": [
        "\n",
        "Iteration 10"
       ]
      },
      {
       "output_type": "stream",
       "stream": "stdout",
       "text": [
        "\n",
        "Pair N-N\n",
        "Pair N-C"
       ]
      },
      {
       "output_type": "stream",
       "stream": "stdout",
       "text": [
        "\n",
        "Pair C-C"
       ]
      },
      {
       "output_type": "stream",
       "stream": "stdout",
       "text": [
        "\n",
        "Pair N1-C1"
       ]
      },
      {
       "output_type": "stream",
       "stream": "stdout",
       "text": [
        "\n",
        "Pair C1-C2"
       ]
      },
      {
       "output_type": "stream",
       "stream": "stdout",
       "text": [
        "\n",
        "Pair N1-C2-C1"
       ]
      },
      {
       "output_type": "stream",
       "stream": "stdout",
       "text": [
        "\n",
        "Automatically defining list of interactions from input file. If this does not work well for your input, edit subroutine GetDFsFromFile_magic in MagicTools.py and manualy add list of your beads to PairNamesList"
       ]
      },
      {
       "output_type": "stream",
       "stream": "stdout",
       "text": [
        "\n",
        "3"
       ]
      },
      {
       "output_type": "stream",
       "stream": "stdout",
       "text": [
        "  intermolecular pairs detected  ['N-N', 'N-C', 'C-C']\n",
        "2  pairwise bonds detected  ['N1-C1', 'C1-C2']\n",
        "1  angles detected  ['N1-C2-C1']\n",
        "Total number of iterations:"
       ]
      },
      {
       "output_type": "stream",
       "stream": "stdout",
       "text": [
        " 10\n",
        "Total number of checks per iteration: 7\n",
        "Iteration 1\n",
        "Pair N-N\n",
        "Pair N-C"
       ]
      },
      {
       "output_type": "stream",
       "stream": "stdout",
       "text": [
        "\n",
        "Pair C-C"
       ]
      },
      {
       "output_type": "stream",
       "stream": "stdout",
       "text": [
        "\n",
        "Pair N1-C1"
       ]
      },
      {
       "output_type": "stream",
       "stream": "stdout",
       "text": [
        "\n",
        "Pair C1-C2"
       ]
      },
      {
       "output_type": "stream",
       "stream": "stdout",
       "text": [
        "\n",
        "Pair N1-C2-C1"
       ]
      },
      {
       "output_type": "stream",
       "stream": "stdout",
       "text": [
        "\n",
        "Iteration 2"
       ]
      },
      {
       "output_type": "stream",
       "stream": "stdout",
       "text": [
        "\n",
        "Pair N-N\n",
        "Pair N-C"
       ]
      },
      {
       "output_type": "stream",
       "stream": "stdout",
       "text": [
        "\n",
        "Pair C-C"
       ]
      },
      {
       "output_type": "stream",
       "stream": "stdout",
       "text": [
        "\n",
        "Pair N1-C1"
       ]
      },
      {
       "output_type": "stream",
       "stream": "stdout",
       "text": [
        "\n",
        "Pair C1-C2"
       ]
      },
      {
       "output_type": "stream",
       "stream": "stdout",
       "text": [
        "\n",
        "Pair N1-C2-C1"
       ]
      },
      {
       "output_type": "stream",
       "stream": "stdout",
       "text": [
        "\n",
        "Iteration 3"
       ]
      },
      {
       "output_type": "stream",
       "stream": "stdout",
       "text": [
        "\n",
        "Pair N-N\n",
        "Pair N-C"
       ]
      },
      {
       "output_type": "stream",
       "stream": "stdout",
       "text": [
        "\n",
        "Pair C-C"
       ]
      },
      {
       "output_type": "stream",
       "stream": "stdout",
       "text": [
        "\n",
        "Pair N1-C1"
       ]
      },
      {
       "output_type": "stream",
       "stream": "stdout",
       "text": [
        "\n",
        "Pair C1-C2"
       ]
      },
      {
       "output_type": "stream",
       "stream": "stdout",
       "text": [
        "\n",
        "Pair N1-C2-C1"
       ]
      },
      {
       "output_type": "stream",
       "stream": "stdout",
       "text": [
        "\n",
        "Iteration 4"
       ]
      },
      {
       "output_type": "stream",
       "stream": "stdout",
       "text": [
        "\n",
        "Pair N-N\n",
        "Pair N-C"
       ]
      },
      {
       "output_type": "stream",
       "stream": "stdout",
       "text": [
        "\n",
        "Pair C-C"
       ]
      },
      {
       "output_type": "stream",
       "stream": "stdout",
       "text": [
        "\n",
        "Pair N1-C1"
       ]
      },
      {
       "output_type": "stream",
       "stream": "stdout",
       "text": [
        "\n",
        "Pair C1-C2"
       ]
      },
      {
       "output_type": "stream",
       "stream": "stdout",
       "text": [
        "\n",
        "Pair N1-C2-C1"
       ]
      },
      {
       "output_type": "stream",
       "stream": "stdout",
       "text": [
        "\n",
        "Iteration 5"
       ]
      },
      {
       "output_type": "stream",
       "stream": "stdout",
       "text": [
        "\n",
        "Pair N-N\n",
        "Pair N-C"
       ]
      },
      {
       "output_type": "stream",
       "stream": "stdout",
       "text": [
        "\n",
        "Pair C-C"
       ]
      },
      {
       "output_type": "stream",
       "stream": "stdout",
       "text": [
        "\n",
        "Pair N1-C1"
       ]
      },
      {
       "output_type": "stream",
       "stream": "stdout",
       "text": [
        "\n",
        "Pair C1-C2"
       ]
      },
      {
       "output_type": "stream",
       "stream": "stdout",
       "text": [
        "\n",
        "Pair N1-C2-C1"
       ]
      },
      {
       "output_type": "stream",
       "stream": "stdout",
       "text": [
        "\n",
        "Iteration 6"
       ]
      },
      {
       "output_type": "stream",
       "stream": "stdout",
       "text": [
        "\n",
        "Pair N-N\n",
        "Pair N-C"
       ]
      },
      {
       "output_type": "stream",
       "stream": "stdout",
       "text": [
        "\n",
        "Pair C-C"
       ]
      },
      {
       "output_type": "stream",
       "stream": "stdout",
       "text": [
        "\n",
        "Pair N1-C1"
       ]
      },
      {
       "output_type": "stream",
       "stream": "stdout",
       "text": [
        "\n",
        "Pair C1-C2"
       ]
      },
      {
       "output_type": "stream",
       "stream": "stdout",
       "text": [
        "\n",
        "Pair N1-C2-C1"
       ]
      },
      {
       "output_type": "stream",
       "stream": "stdout",
       "text": [
        "\n",
        "Iteration 7"
       ]
      },
      {
       "output_type": "stream",
       "stream": "stdout",
       "text": [
        "\n",
        "Pair N-N\n",
        "Pair N-C"
       ]
      },
      {
       "output_type": "stream",
       "stream": "stdout",
       "text": [
        "\n",
        "Pair C-C"
       ]
      },
      {
       "output_type": "stream",
       "stream": "stdout",
       "text": [
        "\n",
        "Pair N1-C1"
       ]
      },
      {
       "output_type": "stream",
       "stream": "stdout",
       "text": [
        "\n",
        "Pair C1-C2"
       ]
      },
      {
       "output_type": "stream",
       "stream": "stdout",
       "text": [
        "\n",
        "Pair N1-C2-C1"
       ]
      },
      {
       "output_type": "stream",
       "stream": "stdout",
       "text": [
        "\n",
        "Iteration 8"
       ]
      },
      {
       "output_type": "stream",
       "stream": "stdout",
       "text": [
        "\n",
        "Pair N-N\n",
        "Pair N-C"
       ]
      },
      {
       "output_type": "stream",
       "stream": "stdout",
       "text": [
        "\n",
        "Pair C-C"
       ]
      },
      {
       "output_type": "stream",
       "stream": "stdout",
       "text": [
        "\n",
        "Pair N1-C1"
       ]
      },
      {
       "output_type": "stream",
       "stream": "stdout",
       "text": [
        "\n",
        "Pair C1-C2"
       ]
      },
      {
       "output_type": "stream",
       "stream": "stdout",
       "text": [
        "\n",
        "Pair N1-C2-C1"
       ]
      },
      {
       "output_type": "stream",
       "stream": "stdout",
       "text": [
        "\n",
        "Iteration 9"
       ]
      },
      {
       "output_type": "stream",
       "stream": "stdout",
       "text": [
        "\n",
        "Pair N-N\n",
        "Pair N-C"
       ]
      },
      {
       "output_type": "stream",
       "stream": "stdout",
       "text": [
        "\n",
        "Pair C-C"
       ]
      },
      {
       "output_type": "stream",
       "stream": "stdout",
       "text": [
        "\n",
        "Pair N1-C1"
       ]
      },
      {
       "output_type": "stream",
       "stream": "stdout",
       "text": [
        "\n",
        "Pair C1-C2"
       ]
      },
      {
       "output_type": "stream",
       "stream": "stdout",
       "text": [
        "\n",
        "Pair N1-C2-C1"
       ]
      },
      {
       "output_type": "stream",
       "stream": "stdout",
       "text": [
        "\n",
        "Iteration 10"
       ]
      },
      {
       "output_type": "stream",
       "stream": "stdout",
       "text": [
        "\n",
        "Pair N-N\n",
        "Pair N-C"
       ]
      },
      {
       "output_type": "stream",
       "stream": "stdout",
       "text": [
        "\n",
        "Pair C-C"
       ]
      },
      {
       "output_type": "stream",
       "stream": "stdout",
       "text": [
        "\n",
        "Pair N1-C1"
       ]
      },
      {
       "output_type": "stream",
       "stream": "stdout",
       "text": [
        "\n",
        "Pair C1-C2"
       ]
      },
      {
       "output_type": "stream",
       "stream": "stdout",
       "text": [
        "\n",
        "Pair N1-C2-C1"
       ]
      },
      {
       "output_type": "stream",
       "stream": "stdout",
       "text": [
        "\n",
        "Automatically defining list of interactions from input file. If this does not work well for your input, edit subroutine GetDFsFromFile_magic in MagicTools.py and manualy add list of your beads to PairNamesList"
       ]
      },
      {
       "output_type": "stream",
       "stream": "stdout",
       "text": [
        "\n",
        "3"
       ]
      },
      {
       "output_type": "stream",
       "stream": "stdout",
       "text": [
        "  intermolecular pairs detected  ['N-N', 'N-C', 'C-C']\n",
        "2  pairwise bonds detected  ['N1-C1', 'C1-C2']\n",
        "1  angles detected  ['N1-C2-C1']\n",
        "Total number of iterations:"
       ]
      },
      {
       "output_type": "stream",
       "stream": "stdout",
       "text": [
        " 10\n",
        "Total number of checks per iteration: 7\n",
        "Iteration 1\n",
        "Pair N-N\n",
        "Pair N-C"
       ]
      },
      {
       "output_type": "stream",
       "stream": "stdout",
       "text": [
        "\n",
        "Pair C-C"
       ]
      },
      {
       "output_type": "stream",
       "stream": "stdout",
       "text": [
        "\n",
        "Pair N1-C1"
       ]
      },
      {
       "output_type": "stream",
       "stream": "stdout",
       "text": [
        "\n",
        "Pair C1-C2"
       ]
      },
      {
       "output_type": "stream",
       "stream": "stdout",
       "text": [
        "\n",
        "Pair N1-C2-C1"
       ]
      },
      {
       "output_type": "stream",
       "stream": "stdout",
       "text": [
        "\n",
        "Iteration 2"
       ]
      },
      {
       "output_type": "stream",
       "stream": "stdout",
       "text": [
        "\n",
        "Pair N-N\n",
        "Pair N-C"
       ]
      },
      {
       "output_type": "stream",
       "stream": "stdout",
       "text": [
        "\n",
        "Pair C-C"
       ]
      },
      {
       "output_type": "stream",
       "stream": "stdout",
       "text": [
        "\n",
        "Pair N1-C1"
       ]
      },
      {
       "output_type": "stream",
       "stream": "stdout",
       "text": [
        "\n",
        "Pair C1-C2"
       ]
      },
      {
       "output_type": "stream",
       "stream": "stdout",
       "text": [
        "\n",
        "Pair N1-C2-C1"
       ]
      },
      {
       "output_type": "stream",
       "stream": "stdout",
       "text": [
        "\n",
        "Iteration 3"
       ]
      },
      {
       "output_type": "stream",
       "stream": "stdout",
       "text": [
        "\n",
        "Pair N-N\n",
        "Pair N-C"
       ]
      },
      {
       "output_type": "stream",
       "stream": "stdout",
       "text": [
        "\n",
        "Pair C-C"
       ]
      },
      {
       "output_type": "stream",
       "stream": "stdout",
       "text": [
        "\n",
        "Pair N1-C1"
       ]
      },
      {
       "output_type": "stream",
       "stream": "stdout",
       "text": [
        "\n",
        "Pair C1-C2"
       ]
      },
      {
       "output_type": "stream",
       "stream": "stdout",
       "text": [
        "\n",
        "Pair N1-C2-C1"
       ]
      },
      {
       "output_type": "stream",
       "stream": "stdout",
       "text": [
        "\n",
        "Iteration 4"
       ]
      },
      {
       "output_type": "stream",
       "stream": "stdout",
       "text": [
        "\n",
        "Pair N-N\n",
        "Pair N-C"
       ]
      },
      {
       "output_type": "stream",
       "stream": "stdout",
       "text": [
        "\n",
        "Pair C-C"
       ]
      },
      {
       "output_type": "stream",
       "stream": "stdout",
       "text": [
        "\n",
        "Pair N1-C1"
       ]
      },
      {
       "output_type": "stream",
       "stream": "stdout",
       "text": [
        "\n",
        "Pair C1-C2"
       ]
      },
      {
       "output_type": "stream",
       "stream": "stdout",
       "text": [
        "\n",
        "Pair N1-C2-C1"
       ]
      },
      {
       "output_type": "stream",
       "stream": "stdout",
       "text": [
        "\n",
        "Iteration 5"
       ]
      },
      {
       "output_type": "stream",
       "stream": "stdout",
       "text": [
        "\n",
        "Pair N-N\n",
        "Pair N-C"
       ]
      },
      {
       "output_type": "stream",
       "stream": "stdout",
       "text": [
        "\n",
        "Pair C-C"
       ]
      },
      {
       "output_type": "stream",
       "stream": "stdout",
       "text": [
        "\n",
        "Pair N1-C1"
       ]
      },
      {
       "output_type": "stream",
       "stream": "stdout",
       "text": [
        "\n",
        "Pair C1-C2"
       ]
      },
      {
       "output_type": "stream",
       "stream": "stdout",
       "text": [
        "\n",
        "Pair N1-C2-C1"
       ]
      },
      {
       "output_type": "stream",
       "stream": "stdout",
       "text": [
        "\n",
        "Iteration 6"
       ]
      },
      {
       "output_type": "stream",
       "stream": "stdout",
       "text": [
        "\n",
        "Pair N-N\n",
        "Pair N-C"
       ]
      },
      {
       "output_type": "stream",
       "stream": "stdout",
       "text": [
        "\n",
        "Pair C-C"
       ]
      },
      {
       "output_type": "stream",
       "stream": "stdout",
       "text": [
        "\n",
        "Pair N1-C1"
       ]
      },
      {
       "output_type": "stream",
       "stream": "stdout",
       "text": [
        "\n",
        "Pair C1-C2"
       ]
      },
      {
       "output_type": "stream",
       "stream": "stdout",
       "text": [
        "\n",
        "Pair N1-C2-C1"
       ]
      },
      {
       "output_type": "stream",
       "stream": "stdout",
       "text": [
        "\n",
        "Iteration 7"
       ]
      },
      {
       "output_type": "stream",
       "stream": "stdout",
       "text": [
        "\n",
        "Pair N-N\n",
        "Pair N-C"
       ]
      },
      {
       "output_type": "stream",
       "stream": "stdout",
       "text": [
        "\n",
        "Pair C-C"
       ]
      },
      {
       "output_type": "stream",
       "stream": "stdout",
       "text": [
        "\n",
        "Pair N1-C1"
       ]
      },
      {
       "output_type": "stream",
       "stream": "stdout",
       "text": [
        "\n",
        "Pair C1-C2"
       ]
      },
      {
       "output_type": "stream",
       "stream": "stdout",
       "text": [
        "\n",
        "Pair N1-C2-C1"
       ]
      },
      {
       "output_type": "stream",
       "stream": "stdout",
       "text": [
        "\n",
        "Iteration 8"
       ]
      },
      {
       "output_type": "stream",
       "stream": "stdout",
       "text": [
        "\n",
        "Pair N-N\n",
        "Pair N-C"
       ]
      },
      {
       "output_type": "stream",
       "stream": "stdout",
       "text": [
        "\n",
        "Pair C-C"
       ]
      },
      {
       "output_type": "stream",
       "stream": "stdout",
       "text": [
        "\n",
        "Pair N1-C1"
       ]
      },
      {
       "output_type": "stream",
       "stream": "stdout",
       "text": [
        "\n",
        "Pair C1-C2"
       ]
      },
      {
       "output_type": "stream",
       "stream": "stdout",
       "text": [
        "\n",
        "Pair N1-C2-C1"
       ]
      },
      {
       "output_type": "stream",
       "stream": "stdout",
       "text": [
        "\n",
        "Iteration 9"
       ]
      },
      {
       "output_type": "stream",
       "stream": "stdout",
       "text": [
        "\n",
        "Pair N-N\n",
        "Pair N-C"
       ]
      },
      {
       "output_type": "stream",
       "stream": "stdout",
       "text": [
        "\n",
        "Pair C-C"
       ]
      },
      {
       "output_type": "stream",
       "stream": "stdout",
       "text": [
        "\n",
        "Pair N1-C1"
       ]
      },
      {
       "output_type": "stream",
       "stream": "stdout",
       "text": [
        "\n",
        "Pair C1-C2"
       ]
      },
      {
       "output_type": "stream",
       "stream": "stdout",
       "text": [
        "\n",
        "Pair N1-C2-C1"
       ]
      },
      {
       "output_type": "stream",
       "stream": "stdout",
       "text": [
        "\n",
        "Iteration 10"
       ]
      },
      {
       "output_type": "stream",
       "stream": "stdout",
       "text": [
        "\n",
        "Pair N-N\n",
        "Pair N-C"
       ]
      },
      {
       "output_type": "stream",
       "stream": "stdout",
       "text": [
        "\n",
        "Pair C-C"
       ]
      },
      {
       "output_type": "stream",
       "stream": "stdout",
       "text": [
        "\n",
        "Pair N1-C1"
       ]
      },
      {
       "output_type": "stream",
       "stream": "stdout",
       "text": [
        "\n",
        "Pair C1-C2"
       ]
      },
      {
       "output_type": "stream",
       "stream": "stdout",
       "text": [
        "\n",
        "Pair N1-C2-C1"
       ]
      },
      {
       "output_type": "stream",
       "stream": "stdout",
       "text": [
        "\n",
        "Automatically defining list of interactions from input file. If this does not work well for your input, edit subroutine GetDFsFromFile_magic in MagicTools.py and manualy add list of your beads to PairNamesList"
       ]
      },
      {
       "output_type": "stream",
       "stream": "stdout",
       "text": [
        "\n",
        "3  intermolecular pairs detected  ['N-N', 'N-C', 'C-C']\n",
        "2  pairwise bonds detected  ['N1-C1', 'C1-C2']\n",
        "1  angles detected  ['N1-C2-C1']\n",
        "Total number of iterations:"
       ]
      },
      {
       "output_type": "stream",
       "stream": "stdout",
       "text": [
        " 5\n",
        "Total number of checks per iteration: 7\n",
        "Iteration 1\n",
        "Pair N-N\n",
        "Pair N-C"
       ]
      },
      {
       "output_type": "stream",
       "stream": "stdout",
       "text": [
        "\n",
        "Pair C-C\n",
        "Pair N1-C1"
       ]
      },
      {
       "output_type": "stream",
       "stream": "stdout",
       "text": [
        "\n",
        "Pair C1-C2\n",
        "Pair N1-C2-C1"
       ]
      },
      {
       "output_type": "stream",
       "stream": "stdout",
       "text": [
        "\n",
        "Iteration 2\n",
        "Pair N-N\n",
        "Pair N-C"
       ]
      },
      {
       "output_type": "stream",
       "stream": "stdout",
       "text": [
        "\n",
        "Pair C-C\n",
        "Pair N1-C1"
       ]
      },
      {
       "output_type": "stream",
       "stream": "stdout",
       "text": [
        "\n",
        "Pair C1-C2\n",
        "Pair N1-C2-C1"
       ]
      },
      {
       "output_type": "stream",
       "stream": "stdout",
       "text": [
        "\n",
        "Iteration 3\n",
        "Pair N-N\n",
        "Pair N-C"
       ]
      },
      {
       "output_type": "stream",
       "stream": "stdout",
       "text": [
        "\n",
        "Pair C-C\n",
        "Pair N1-C1"
       ]
      },
      {
       "output_type": "stream",
       "stream": "stdout",
       "text": [
        "\n",
        "Pair C1-C2\n",
        "Pair N1-C2-C1"
       ]
      },
      {
       "output_type": "stream",
       "stream": "stdout",
       "text": [
        "\n",
        "Iteration 4\n",
        "Pair N-N\n",
        "Pair N-C"
       ]
      },
      {
       "output_type": "stream",
       "stream": "stdout",
       "text": [
        "\n",
        "Pair C-C\n",
        "Pair N1-C1"
       ]
      },
      {
       "output_type": "stream",
       "stream": "stdout",
       "text": [
        "\n",
        "Pair C1-C2\n",
        "Pair N1-C2-C1"
       ]
      },
      {
       "output_type": "stream",
       "stream": "stdout",
       "text": [
        "\n",
        "Iteration 5\n",
        "Pair N-N\n",
        "Pair N-C"
       ]
      },
      {
       "output_type": "stream",
       "stream": "stdout",
       "text": [
        "\n",
        "Pair C-C\n",
        "Pair N1-C1"
       ]
      },
      {
       "output_type": "stream",
       "stream": "stdout",
       "text": [
        "\n",
        "Pair C1-C2\n",
        "Pair N1-C2-C1"
       ]
      },
      {
       "output_type": "stream",
       "stream": "stdout",
       "text": [
        "\n"
       ]
      },
      {
       "metadata": {},
       "output_type": "pyout",
       "prompt_number": 199,
       "text": [
        "35"
       ]
      }
     ],
     "prompt_number": 199
    },
    {
     "cell_type": "code",
     "collapsed": false,
     "input": [
      "r2 = np.array(rdf)\n",
      "rx =[]\n",
      "its = [10,10,10,5]\n",
      "for i in xrange(len(its)):\n",
      "    for j in xrange(its[i]):\n",
      "        rx.append(r2[i][j][0])\n",
      "print len(r2)\n"
     ],
     "language": "python",
     "metadata": {},
     "outputs": [
      {
       "output_type": "stream",
       "stream": "stdout",
       "text": [
        "4\n"
       ]
      }
     ],
     "prompt_number": 284
    },
    {
     "cell_type": "code",
     "collapsed": false,
     "input": [
      "p1 = []\n",
      "for i in xrange(10):\n",
      "    p1.append(MagicTools.GetPotsFromFile_pot('ibidmddLow.i{:03d}.pot'.format(i+1),mcmfile='dmddLow.mcm'))\n",
      "its = [10,10,5]\n",
      "for i in xrange(len(its)):\n",
      "    for j in xrange(its[i]):\n",
      "        p1.append(MagicTools.GetPotsFromFile_pot('imc{}dmddLow.i{:03d}.pot'.format(i+1,j+1),mcmfile='dmddLow.mcm'))"
     ],
     "language": "python",
     "metadata": {},
     "outputs": [],
     "prompt_number": 281
    },
    {
     "cell_type": "code",
     "collapsed": false,
     "input": [
      "f = open('invpotsM1.dat', 'w');\n",
      "f.write('{0:3d}\\n'.format(len(p1)))\n",
      "j=0\n",
      "for i in xrange(len(p1)):\n",
      "    f.write('{0:3d}\\n'.format(len(p1[i][j].g[:,0])))\n",
      "    for w in xrange(len(p1[i][j].g[:,0])):\n",
      "        f.write('{0:8.8f} {1:8.8f}\\n'.format(p1[i][j].g[w,0],p1[i][j].g[w,1]))\n",
      "f.close(); \n",
      "\n",
      "f = open('invrdfsM1.dat', 'w');\n",
      "f.write('{0:3d}\\n'.format(len(rx)))\n",
      "for i in xrange(len(rx)):\n",
      "    f.write('{0:3d}\\n'.format(len(rx[i].g[:,0])))\n",
      "    for w in xrange(len(rx[i].g[:,0])):\n",
      "        f.write('{0:8.8f} {1:8.8f}\\n'.format(rx[i].g[w,0],rx[i].g[w,1]))\n",
      "f.close(); \n"
     ],
     "language": "python",
     "metadata": {},
     "outputs": [],
     "prompt_number": 287
    },
    {
     "cell_type": "code",
     "collapsed": false,
     "input": [],
     "language": "python",
     "metadata": {},
     "outputs": [
      {
       "metadata": {},
       "output_type": "pyout",
       "prompt_number": 158,
       "text": [
        "[[<CDF.C_DF instance at 0x7fe32af3fdd0>,\n",
        "  <CDF.C_DF instance at 0x7fe3349c1f38>,\n",
        "  <CDF.C_DF instance at 0x7fe32af3f6c8>,\n",
        "  <CDF.C_DF instance at 0x7fe32af3f560>,\n",
        "  <CDF.C_DF instance at 0x7fe32af3f1b8>,\n",
        "  <CDF.C_DF instance at 0x7fe3318e0cf8>],\n",
        " [<CDF.C_DF instance at 0x7fe32afe2830>,\n",
        "  <CDF.C_DF instance at 0x7fe32af3f0e0>,\n",
        "  <CDF.C_DF instance at 0x7fe330013128>,\n",
        "  <CDF.C_DF instance at 0x7fe330013638>,\n",
        "  <CDF.C_DF instance at 0x7fe330d32368>,\n",
        "  <CDF.C_DF instance at 0x7fe330d32950>],\n",
        " [<CDF.C_DF instance at 0x7fe3309fc3f8>,\n",
        "  <CDF.C_DF instance at 0x7fe330d32320>,\n",
        "  <CDF.C_DF instance at 0x7fe3349c17e8>,\n",
        "  <CDF.C_DF instance at 0x7fe330a521b8>,\n",
        "  <CDF.C_DF instance at 0x7fe330a52bd8>,\n",
        "  <CDF.C_DF instance at 0x7fe32afe23f8>],\n",
        " [<CDF.C_DF instance at 0x7fe334a1fab8>,\n",
        "  <CDF.C_DF instance at 0x7fe330a52a28>,\n",
        "  <CDF.C_DF instance at 0x7fe3309fc518>,\n",
        "  <CDF.C_DF instance at 0x7fe3309fc830>,\n",
        "  <CDF.C_DF instance at 0x7fe3309fc5f0>,\n",
        "  <CDF.C_DF instance at 0x7fe32af3fbd8>],\n",
        " [<CDF.C_DF instance at 0x7fe3318e0b90>,\n",
        "  <CDF.C_DF instance at 0x7fe32af3fe60>,\n",
        "  <CDF.C_DF instance at 0x7fe334a1ff38>,\n",
        "  <CDF.C_DF instance at 0x7fe3349a6050>,\n",
        "  <CDF.C_DF instance at 0x7fe3349a6b00>,\n",
        "  <CDF.C_DF instance at 0x7fe3349a6908>],\n",
        " [<CDF.C_DF instance at 0x7fe3318e0128>,\n",
        "  <CDF.C_DF instance at 0x7fe330a52050>,\n",
        "  <CDF.C_DF instance at 0x7fe3349c1c68>,\n",
        "  <CDF.C_DF instance at 0x7fe3300138c0>,\n",
        "  <CDF.C_DF instance at 0x7fe330013c20>,\n",
        "  <CDF.C_DF instance at 0x7fe330013518>],\n",
        " [<CDF.C_DF instance at 0x7fe32af3fcf8>,\n",
        "  <CDF.C_DF instance at 0x7fe330a53dd0>,\n",
        "  <CDF.C_DF instance at 0x7fe3318e03f8>,\n",
        "  <CDF.C_DF instance at 0x7fe3318e0ef0>,\n",
        "  <CDF.C_DF instance at 0x7fe32af3ff38>,\n",
        "  <CDF.C_DF instance at 0x7fe32af3f440>],\n",
        " [<CDF.C_DF instance at 0x7fe330d32e18>,\n",
        "  <CDF.C_DF instance at 0x7fe330a52488>,\n",
        "  <CDF.C_DF instance at 0x7fe3318e0710>,\n",
        "  <CDF.C_DF instance at 0x7fe3318e05f0>,\n",
        "  <CDF.C_DF instance at 0x7fe33093da70>,\n",
        "  <CDF.C_DF instance at 0x7fe330013248>],\n",
        " [<CDF.C_DF instance at 0x7fe3309fc710>,\n",
        "  <CDF.C_DF instance at 0x7fe3300135f0>,\n",
        "  <CDF.C_DF instance at 0x7fe330d32170>,\n",
        "  <CDF.C_DF instance at 0x7fe330d32200>,\n",
        "  <CDF.C_DF instance at 0x7fe3318e0320>,\n",
        "  <CDF.C_DF instance at 0x7fe3349a6f80>],\n",
        " [<CDF.C_DF instance at 0x7fe330a52f80>,\n",
        "  <CDF.C_DF instance at 0x7fe3349a6290>,\n",
        "  <CDF.C_DF instance at 0x7fe3309fcbd8>,\n",
        "  <CDF.C_DF instance at 0x7fe3309fc9e0>,\n",
        "  <CDF.C_DF instance at 0x7fe32af3f5a8>,\n",
        "  <CDF.C_DF instance at 0x7fe330a53200>]]"
       ]
      }
     ],
     "prompt_number": 158
    },
    {
     "cell_type": "code",
     "collapsed": false,
     "input": [
      "import matplotlib.cm as cm\n",
      "plt.figure(figsize=(20,12), dpi=300)\n",
      "\n",
      "plt.xlabel(r'$r,\\  (\\AA)$',fontsize=20)\n",
      "plt.ylabel(r'$\\mathcal{U}(r)$',fontsize=20)\n",
      "plt.axis([3, 18, -3.7,15])\n",
      "for i in xrange(len(p1)):\n",
      "    if(i % 34 == 0 ):\n",
      "        c = cm.Greens(0.1+(((20*i)/float(len(p1)))/10),1)\n",
      "        plt.plot(p1[i][0].g[:,0],p1[i][0].g[:,1],label=i+1,color=c)\n",
      "plt.xticks(linspace(0,18,20));\n",
      "plt.yticks(linspace(-5,15,20));\n",
      "plt.grid(True)"
     ],
     "language": "python",
     "metadata": {},
     "outputs": [
      {
       "metadata": {},
       "output_type": "display_data",
       "png": "[encoded data removed]",
       "text": [
        "<matplotlib.figure.Figure at 0x7fe330106150>"
       ]
      }
     ],
     "prompt_number": 264
    },
    {
     "cell_type": "code",
     "collapsed": false,
     "input": [],
     "language": "python",
     "metadata": {},
     "outputs": []
    }
   ],
   "metadata": {}
  }
 ]
}